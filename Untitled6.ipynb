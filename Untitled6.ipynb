{
 "cells": [
  {
   "cell_type": "code",
   "execution_count": 2,
   "id": "8c5ec6a8",
   "metadata": {},
   "outputs": [],
   "source": [
    "scores=[50,68,98]"
   ]
  },
  {
   "cell_type": "code",
   "execution_count": 3,
   "id": "f3deaddb",
   "metadata": {},
   "outputs": [],
   "source": [
    "def second(x,y,z):\n",
    "    if x>y and x>z:\n",
    "        return y\n",
    "    elif y>x and y>z:\n",
    "        return z\n",
    "    else:\n",
    "        return x"
   ]
  },
  {
   "cell_type": "code",
   "execution_count": 4,
   "id": "5b1a990a",
   "metadata": {},
   "outputs": [
    {
     "data": {
      "text/plain": [
       "50"
      ]
     },
     "execution_count": 4,
     "metadata": {},
     "output_type": "execute_result"
    }
   ],
   "source": [
    "second(50,68,98)"
   ]
  },
  {
   "cell_type": "code",
   "execution_count": 5,
   "id": "66b5cd08",
   "metadata": {},
   "outputs": [
    {
     "name": "stdout",
     "output_type": "stream",
     "text": [
      "34\n"
     ]
    }
   ],
   "source": [
    "scores=[23,45,33,12,34]\n",
    "sc_set= set(scores)\n",
    "top=max(sc_set)\n",
    "sc_set.remove(top)\n",
    "print(max(sc_set))"
   ]
  },
  {
   "cell_type": "code",
   "execution_count": 6,
   "id": "43c28760",
   "metadata": {},
   "outputs": [
    {
     "data": {
      "text/plain": [
       "45"
      ]
     },
     "execution_count": 6,
     "metadata": {},
     "output_type": "execute_result"
    }
   ],
   "source": [
    "top"
   ]
  },
  {
   "cell_type": "code",
   "execution_count": 7,
   "id": "3aa477cb",
   "metadata": {},
   "outputs": [
    {
     "name": "stdout",
     "output_type": "stream",
     "text": [
      "{8, 7}\n"
     ]
    }
   ],
   "source": [
    "x={5,7,8,9}\n",
    "y={8,6,7,4}\n",
    "if x.intersection(y):\n",
    "    print(x&y)\n",
    "else:\n",
    "    print(x.union(y))\n",
    "    "
   ]
  },
  {
   "cell_type": "code",
   "execution_count": 8,
   "id": "909ecbbb",
   "metadata": {},
   "outputs": [
    {
     "name": "stdout",
     "output_type": "stream",
     "text": [
      "enter the name to be updatedriya\n",
      "name not found\n"
     ]
    }
   ],
   "source": [
    "D={'John' :[25,32,43],'Peter':[87,55,96],'Ram':[58,55,43],'Meena':[63,79,85]}\n",
    "n=input('enter the name to be updated')\n",
    "if n in D:\n",
    "    D[n]=[88.77,99]\n",
    "    print(D)\n",
    "else:\n",
    "    print('name not found')"
   ]
  },
  {
   "cell_type": "code",
   "execution_count": 9,
   "id": "fe956362",
   "metadata": {},
   "outputs": [
    {
     "data": {
      "text/plain": [
       "'nraa'"
      ]
     },
     "execution_count": 9,
     "metadata": {},
     "output_type": "execute_result"
    }
   ],
   "source": [
    "s='nirmala'\n",
    "s[::2]\n"
   ]
  },
  {
   "cell_type": "code",
   "execution_count": 11,
   "id": "a8629461",
   "metadata": {},
   "outputs": [
    {
     "name": "stdout",
     "output_type": "stream",
     "text": [
      "elder= 45\n",
      "youngest= 23\n"
     ]
    }
   ],
   "source": [
    "age=[23,45,33]\n",
    "print('elder=',max(age))\n",
    "print('youngest=',min(age))"
   ]
  },
  {
   "cell_type": "code",
   "execution_count": null,
   "id": "b118821a",
   "metadata": {},
   "outputs": [],
   "source": []
  }
 ],
 "metadata": {
  "kernelspec": {
   "display_name": "Python 3 (ipykernel)",
   "language": "python",
   "name": "python3"
  },
  "language_info": {
   "codemirror_mode": {
    "name": "ipython",
    "version": 3
   },
   "file_extension": ".py",
   "mimetype": "text/x-python",
   "name": "python",
   "nbconvert_exporter": "python",
   "pygments_lexer": "ipython3",
   "version": "3.11.5"
  }
 },
 "nbformat": 4,
 "nbformat_minor": 5
}
